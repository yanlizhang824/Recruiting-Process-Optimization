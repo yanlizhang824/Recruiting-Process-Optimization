{
 "cells": [
  {
   "cell_type": "code",
   "execution_count": 1,
   "metadata": {},
   "outputs": [],
   "source": [
    "import tensorflow as tf\n",
    "from tensorflow.keras.models import Sequential\n",
    "from tensorflow.keras.layers import Dense, Dropout\n",
    "from tensorflow.keras.optimizers import Adam\n",
    "from sklearn.preprocessing import StandardScaler\n",
    "from preprocess_for_training2 import preprocess\n",
    "from tensorflow.keras import regularizers"
   ]
  },
  {
   "cell_type": "code",
   "execution_count": 2,
   "metadata": {},
   "outputs": [
    {
     "name": "stderr",
     "output_type": "stream",
     "text": [
      "c:\\Users\\Bryan\\miniconda3\\envs\\tf_gpu\\lib\\site-packages\\numpy\\core\\fromnumeric.py:3432: RuntimeWarning: Mean of empty slice.\n",
      "  return _methods._mean(a, axis=axis, dtype=dtype,\n",
      "c:\\Users\\Bryan\\miniconda3\\envs\\tf_gpu\\lib\\site-packages\\numpy\\core\\_methods.py:190: RuntimeWarning: invalid value encountered in double_scalars\n",
      "  ret = ret.dtype.type(ret / rcount)\n",
      "c:\\Users\\Bryan\\Work\\Thaddeus\\Data-Analysis\\Data Gathering\\Staff Analysis Data\\ML Model\\Train\\preprocess_for_training2.py:223: VisibleDeprecationWarning: Creating an ndarray from ragged nested sequences (which is a list-or-tuple of lists-or-tuples-or ndarrays with different lengths or shapes) is deprecated. If you meant to do this, you must specify 'dtype=object' when creating the ndarray.\n",
      "  return np.array(vectors)\n"
     ]
    }
   ],
   "source": [
    "X_train, X_test, y_train, y_test = preprocess()"
   ]
  },
  {
   "cell_type": "code",
   "execution_count": 3,
   "metadata": {},
   "outputs": [],
   "source": [
    "scaler = StandardScaler()\n",
    "X_train = scaler.fit_transform(X_train)\n",
    "X_test = scaler.transform(X_test)"
   ]
  },
  {
   "cell_type": "code",
   "execution_count": 4,
   "metadata": {},
   "outputs": [
    {
     "name": "stdout",
     "output_type": "stream",
     "text": [
      "Epoch 1/50\n",
      "106/106 [==============================] - 3s 6ms/step - loss: 3.0657 - accuracy: 0.6288 - val_loss: 1.6558 - val_accuracy: 0.7778\n",
      "Epoch 2/50\n",
      "106/106 [==============================] - 0s 5ms/step - loss: 1.1210 - accuracy: 0.8064 - val_loss: 0.7403 - val_accuracy: 0.8392\n",
      "Epoch 3/50\n",
      "106/106 [==============================] - 0s 4ms/step - loss: 0.6026 - accuracy: 0.8549 - val_loss: 0.4836 - val_accuracy: 0.8818\n",
      "Epoch 4/50\n",
      "106/106 [==============================] - 1s 5ms/step - loss: 0.4580 - accuracy: 0.8668 - val_loss: 0.4171 - val_accuracy: 0.8818\n",
      "Epoch 5/50\n",
      "106/106 [==============================] - 0s 4ms/step - loss: 0.4083 - accuracy: 0.8733 - val_loss: 0.3882 - val_accuracy: 0.8842\n",
      "Epoch 6/50\n",
      "106/106 [==============================] - 0s 4ms/step - loss: 0.3953 - accuracy: 0.8810 - val_loss: 0.3781 - val_accuracy: 0.8936\n",
      "Epoch 7/50\n",
      "106/106 [==============================] - 0s 4ms/step - loss: 0.3749 - accuracy: 0.8899 - val_loss: 0.3674 - val_accuracy: 0.8889\n",
      "Epoch 8/50\n",
      "106/106 [==============================] - 0s 4ms/step - loss: 0.3669 - accuracy: 0.8922 - val_loss: 0.3629 - val_accuracy: 0.8865\n",
      "Epoch 9/50\n",
      "106/106 [==============================] - 0s 4ms/step - loss: 0.3607 - accuracy: 0.8928 - val_loss: 0.3626 - val_accuracy: 0.8842\n",
      "Epoch 10/50\n",
      "106/106 [==============================] - 0s 4ms/step - loss: 0.3487 - accuracy: 0.8982 - val_loss: 0.3516 - val_accuracy: 0.8913\n",
      "Epoch 11/50\n",
      "106/106 [==============================] - 0s 4ms/step - loss: 0.3630 - accuracy: 0.8905 - val_loss: 0.3612 - val_accuracy: 0.8818\n",
      "Epoch 12/50\n",
      "106/106 [==============================] - 0s 4ms/step - loss: 0.3400 - accuracy: 0.8993 - val_loss: 0.3563 - val_accuracy: 0.8889\n",
      "Epoch 13/50\n",
      "106/106 [==============================] - 0s 4ms/step - loss: 0.3387 - accuracy: 0.8976 - val_loss: 0.3528 - val_accuracy: 0.8889\n",
      "Epoch 14/50\n",
      "106/106 [==============================] - 0s 4ms/step - loss: 0.3398 - accuracy: 0.8988 - val_loss: 0.3621 - val_accuracy: 0.8818\n",
      "Epoch 15/50\n",
      "106/106 [==============================] - 0s 4ms/step - loss: 0.3322 - accuracy: 0.9011 - val_loss: 0.3557 - val_accuracy: 0.8818\n",
      "Epoch 16/50\n",
      "106/106 [==============================] - 0s 4ms/step - loss: 0.3335 - accuracy: 0.9005 - val_loss: 0.3548 - val_accuracy: 0.8913\n",
      "Epoch 17/50\n",
      "106/106 [==============================] - 0s 4ms/step - loss: 0.3228 - accuracy: 0.9035 - val_loss: 0.3513 - val_accuracy: 0.8818\n",
      "Epoch 18/50\n",
      "106/106 [==============================] - 0s 4ms/step - loss: 0.3248 - accuracy: 0.8952 - val_loss: 0.3440 - val_accuracy: 0.8936\n",
      "Epoch 19/50\n",
      "106/106 [==============================] - 1s 5ms/step - loss: 0.3253 - accuracy: 0.8993 - val_loss: 0.3376 - val_accuracy: 0.8913\n",
      "Epoch 20/50\n",
      "106/106 [==============================] - 0s 4ms/step - loss: 0.3234 - accuracy: 0.9029 - val_loss: 0.3426 - val_accuracy: 0.8983\n",
      "Epoch 21/50\n",
      "106/106 [==============================] - 1s 5ms/step - loss: 0.3230 - accuracy: 0.9023 - val_loss: 0.3526 - val_accuracy: 0.8889\n",
      "Epoch 22/50\n",
      "106/106 [==============================] - 1s 5ms/step - loss: 0.3118 - accuracy: 0.9076 - val_loss: 0.3381 - val_accuracy: 0.8960\n",
      "Epoch 23/50\n",
      "106/106 [==============================] - 0s 4ms/step - loss: 0.3050 - accuracy: 0.9124 - val_loss: 0.3270 - val_accuracy: 0.9007\n",
      "Epoch 24/50\n",
      "106/106 [==============================] - 0s 4ms/step - loss: 0.3096 - accuracy: 0.9029 - val_loss: 0.3492 - val_accuracy: 0.8983\n",
      "Epoch 25/50\n",
      "106/106 [==============================] - 0s 4ms/step - loss: 0.3024 - accuracy: 0.9106 - val_loss: 0.3372 - val_accuracy: 0.8983\n",
      "Epoch 26/50\n",
      "106/106 [==============================] - 0s 4ms/step - loss: 0.3101 - accuracy: 0.9065 - val_loss: 0.3344 - val_accuracy: 0.8960\n",
      "Epoch 27/50\n",
      "106/106 [==============================] - 0s 4ms/step - loss: 0.3003 - accuracy: 0.9076 - val_loss: 0.3311 - val_accuracy: 0.8960\n",
      "Epoch 28/50\n",
      "106/106 [==============================] - 0s 4ms/step - loss: 0.3034 - accuracy: 0.9076 - val_loss: 0.3296 - val_accuracy: 0.9031\n",
      "Epoch 29/50\n",
      "106/106 [==============================] - 0s 4ms/step - loss: 0.3064 - accuracy: 0.9053 - val_loss: 0.3409 - val_accuracy: 0.8936\n",
      "Epoch 30/50\n",
      "106/106 [==============================] - 0s 4ms/step - loss: 0.2972 - accuracy: 0.9112 - val_loss: 0.3501 - val_accuracy: 0.8889\n",
      "Epoch 31/50\n",
      "106/106 [==============================] - 0s 4ms/step - loss: 0.3003 - accuracy: 0.9053 - val_loss: 0.3255 - val_accuracy: 0.9031\n",
      "Epoch 32/50\n",
      "106/106 [==============================] - 0s 4ms/step - loss: 0.3004 - accuracy: 0.9094 - val_loss: 0.3368 - val_accuracy: 0.8983\n",
      "Epoch 33/50\n",
      "106/106 [==============================] - 0s 4ms/step - loss: 0.2904 - accuracy: 0.9147 - val_loss: 0.3318 - val_accuracy: 0.8983\n",
      "Epoch 34/50\n",
      "106/106 [==============================] - 0s 4ms/step - loss: 0.2966 - accuracy: 0.9112 - val_loss: 0.3456 - val_accuracy: 0.8983\n",
      "Epoch 35/50\n",
      "106/106 [==============================] - 0s 5ms/step - loss: 0.2983 - accuracy: 0.9124 - val_loss: 0.3495 - val_accuracy: 0.8913\n",
      "Epoch 36/50\n",
      "106/106 [==============================] - 0s 4ms/step - loss: 0.2975 - accuracy: 0.9047 - val_loss: 0.3464 - val_accuracy: 0.8913\n",
      "Epoch 37/50\n",
      "106/106 [==============================] - 0s 4ms/step - loss: 0.3035 - accuracy: 0.9070 - val_loss: 0.3356 - val_accuracy: 0.8913\n",
      "Epoch 38/50\n",
      "106/106 [==============================] - 0s 4ms/step - loss: 0.2881 - accuracy: 0.9106 - val_loss: 0.3308 - val_accuracy: 0.9007\n",
      "Epoch 39/50\n",
      "106/106 [==============================] - 0s 4ms/step - loss: 0.2941 - accuracy: 0.9118 - val_loss: 0.3429 - val_accuracy: 0.8936\n",
      "Epoch 40/50\n",
      "106/106 [==============================] - 0s 4ms/step - loss: 0.2913 - accuracy: 0.9106 - val_loss: 0.3291 - val_accuracy: 0.9031\n",
      "Epoch 41/50\n",
      "106/106 [==============================] - 0s 4ms/step - loss: 0.2885 - accuracy: 0.9118 - val_loss: 0.3320 - val_accuracy: 0.9031\n",
      "Epoch 42/50\n",
      "106/106 [==============================] - 0s 4ms/step - loss: 0.2902 - accuracy: 0.9124 - val_loss: 0.3257 - val_accuracy: 0.8983\n",
      "Epoch 43/50\n",
      "106/106 [==============================] - 0s 4ms/step - loss: 0.2812 - accuracy: 0.9153 - val_loss: 0.3310 - val_accuracy: 0.9031\n",
      "Epoch 44/50\n",
      "106/106 [==============================] - 0s 4ms/step - loss: 0.2894 - accuracy: 0.9118 - val_loss: 0.3352 - val_accuracy: 0.9031\n",
      "Epoch 45/50\n",
      "106/106 [==============================] - 0s 4ms/step - loss: 0.2776 - accuracy: 0.9142 - val_loss: 0.3290 - val_accuracy: 0.8936\n",
      "Epoch 46/50\n",
      "106/106 [==============================] - 0s 4ms/step - loss: 0.2877 - accuracy: 0.9106 - val_loss: 0.3331 - val_accuracy: 0.9007\n",
      "Epoch 47/50\n",
      "106/106 [==============================] - 0s 4ms/step - loss: 0.2831 - accuracy: 0.9159 - val_loss: 0.3443 - val_accuracy: 0.9007\n",
      "Epoch 48/50\n",
      "106/106 [==============================] - 0s 4ms/step - loss: 0.2787 - accuracy: 0.9136 - val_loss: 0.3433 - val_accuracy: 0.8960\n",
      "Epoch 49/50\n",
      "106/106 [==============================] - 0s 4ms/step - loss: 0.2864 - accuracy: 0.9100 - val_loss: 0.3294 - val_accuracy: 0.9054\n",
      "Epoch 50/50\n",
      "106/106 [==============================] - 0s 5ms/step - loss: 0.2878 - accuracy: 0.9136 - val_loss: 0.3389 - val_accuracy: 0.9007\n",
      "17/17 [==============================] - 0s 3ms/step - loss: 0.3804 - accuracy: 0.8712\n",
      "Test Accuracy: 0.8712\n"
     ]
    }
   ],
   "source": [
    "# Define the model\n",
    "model = Sequential()\n",
    "model.add(Dense(128, activation='relu', input_shape=(X_train.shape[1],)))\n",
    "model.add(Dropout(0.5))\n",
    "model.add(Dense(64, activation='relu', kernel_regularizer=regularizers.l2(0.05)))\n",
    "model.add(Dropout(0.5))\n",
    "model.add(Dense(1, activation='sigmoid'))  # Sigmoid activation for binary classification\n",
    "\n",
    "# Compile the model\n",
    "model.compile(optimizer=Adam(learning_rate=0.001), \n",
    "              loss='binary_crossentropy', \n",
    "              metrics=['accuracy'])\n",
    "\n",
    "# Train the model\n",
    "model.fit(X_train, y_train, epochs=50, batch_size=16, validation_split=0.2)\n",
    "\n",
    "# Evaluate the model\n",
    "loss, accuracy = model.evaluate(X_test, y_test)\n",
    "print(f'Test Accuracy: {accuracy:.4f}')"
   ]
  },
  {
   "cell_type": "code",
   "execution_count": 5,
   "metadata": {},
   "outputs": [
    {
     "name": "stdout",
     "output_type": "stream",
     "text": [
      "              precision    recall  f1-score   support\n",
      "\n",
      "         0.0       0.82      0.97      0.89       287\n",
      "         1.0       0.95      0.76      0.84       241\n",
      "\n",
      "    accuracy                           0.87       528\n",
      "   macro avg       0.89      0.86      0.87       528\n",
      "weighted avg       0.88      0.87      0.87       528\n",
      "\n",
      "ROC-AUC Score: 0.8831089970650744\n"
     ]
    }
   ],
   "source": [
    "# Evaluation\n",
    "from sklearn.metrics import classification_report, roc_auc_score\n",
    "\n",
    "# Predict probabilities for validation data\n",
    "y_pred_proba = model.predict(X_test)\n",
    "\n",
    "# Convert probabilities to binary predictions\n",
    "y_pred = (y_pred_proba > 0.5).astype(int)\n",
    "\n",
    "# Print classification report\n",
    "print(classification_report(y_test, y_pred))\n",
    "\n",
    "# Calculate ROC-AUC score\n",
    "roc_auc = roc_auc_score(y_test, y_pred_proba)\n",
    "print(\"ROC-AUC Score:\", roc_auc)"
   ]
  },
  {
   "cell_type": "code",
   "execution_count": 5,
   "metadata": {},
   "outputs": [],
   "source": [
    "model.save('mlp_model.h5')  "
   ]
  }
 ],
 "metadata": {
  "kernelspec": {
   "display_name": "Python 3 (ipykernel)",
   "language": "python",
   "name": "python3"
  },
  "language_info": {
   "codemirror_mode": {
    "name": "ipython",
    "version": 3
   },
   "file_extension": ".py",
   "mimetype": "text/x-python",
   "name": "python",
   "nbconvert_exporter": "python",
   "pygments_lexer": "ipython3",
   "version": "3.9.13"
  }
 },
 "nbformat": 4,
 "nbformat_minor": 2
}
